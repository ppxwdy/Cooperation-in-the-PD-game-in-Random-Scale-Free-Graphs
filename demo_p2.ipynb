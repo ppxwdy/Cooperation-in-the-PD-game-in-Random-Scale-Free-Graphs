{
 "cells": [
  {
   "cell_type": "code",
   "execution_count": 29,
   "metadata": {
    "collapsed": true
   },
   "outputs": [],
   "source": [
    "import networkx as nx\n",
    "import numpy as np\n",
    "import matplotlib.pyplot as plt\n",
    "import time\n",
    "import copy"
   ]
  },
  {
   "cell_type": "code",
   "execution_count": 2,
   "outputs": [],
   "source": [
    "def generator2(N, m, ks):\n",
    "    \"\"\"\n",
    "    generate the network\n",
    "    :param N: number of nodes\n",
    "    :param m: new node has m links\n",
    "    :return:\n",
    "    \"\"\"\n",
    "\n",
    "    # generate a BA network with 4000 nodes and <k> = 2m = 4\n",
    "    ba = nx.barabasi_albert_graph(N, m, seed=666)\n",
    "\n",
    "    # nodes\n",
    "    nodes = [i for i in range(N)]\n",
    "\n",
    "    # get the neighbours for each vert [(0, [1, 2]), (1, [0, 3]), (2, [0, 3]), (3, [1, 2])]\n",
    "    adj = [(n, list(nbrdict.keys())) for n, nbrdict in ba.adjacency()]\n",
    "    # get the degrees [(0, [1, 2]), (1, [0, 3]), (2, [0, 3]), (3, [1, 2])]\n",
    "    degrees = list(ba.degree())\n",
    "\n",
    "    identity = np.ones(N, dtype=int)\n",
    "    # based on the k threshold to asign C or D\n",
    "    # k >= k* will be C, otherwise will be D\n",
    "    for node in range(N):\n",
    "        d = degrees[node][1]\n",
    "        if d > ks:\n",
    "            identity[node] = 0\n",
    "\n",
    "    return ba, adj, identity, degrees, nodes\n"
   ],
   "metadata": {
    "collapsed": false,
    "pycharm": {
     "name": "#%%\n"
    }
   }
  },
  {
   "cell_type": "code",
   "execution_count": 3,
   "outputs": [],
   "source": [
    "def cal_gain(node, b, adj, identity):\n",
    "    \"\"\"\n",
    "    calculate gain for the given node\n",
    "    :param node: the node i\n",
    "    \"\"\"\n",
    "    neighbours = adj[node][1]\n",
    "    gain = 0\n",
    "    idi = identity[node]\n",
    "    for n in neighbours:\n",
    "        idj = identity[n]\n",
    "        if idi == idj and idi == 0:\n",
    "            gain += 1\n",
    "        elif idi == 1 and idj == 0:\n",
    "            gain += b\n",
    "    return gain\n",
    "\n",
    "\n",
    "def update2(nodei, nodej, b, gains, identity, degrees):\n",
    "    \"\"\"\n",
    "    compare nodei's gain with its neighbour nodej, and find out\n",
    "    how to udpate nodei's od\n",
    "    :param nodei: nodei\n",
    "    :param nodej: nodej\n",
    "    :return:\n",
    "    \"\"\"\n",
    "\n",
    "    if gains[nodei] < gains[nodej]:\n",
    "        beta = 1 / (max(degrees[nodei][1], degrees[nodei][1]) * b)\n",
    "        dice = np.random.rand()\n",
    "        # dice <= beta means accept\n",
    "        if dice <= beta:\n",
    "            identity[nodei] = identity[nodej]\n",
    "\n",
    "\n",
    "def choose_neighbor(nodei, adj):\n",
    "    \"\"\"\n",
    "    choose the node j for the node compare the gain\n",
    "    :param nodei: the node we need to find a neighbour for\n",
    "    :return: the neighbour chosen randomly\n",
    "    \"\"\"\n",
    "    neighbors = adj[nodei][1]\n",
    "    dice = np.random.randint(0, len(neighbors))\n",
    "    return neighbors[dice]"
   ],
   "metadata": {
    "collapsed": false,
    "pycharm": {
     "name": "#%%\n"
    }
   }
  },
  {
   "cell_type": "code",
   "execution_count": 13,
   "outputs": [],
   "source": [
    "# generate the b values\n",
    "bs = np.arange(1, 5, 0.1)\n",
    "\n",
    "# transient time\n",
    "t0 = 500\n",
    "# get steady\n",
    "t1 = 100\n",
    "# after steady\n",
    "ts = 10000\n",
    "\n",
    "N = 4000\n",
    "m = 2\n"
   ],
   "metadata": {
    "collapsed": false,
    "pycharm": {
     "name": "#%%\n"
    }
   }
  },
  {
   "cell_type": "code",
   "execution_count": 34,
   "outputs": [],
   "source": [
    "def iter(adj, identity, degrees, nodes, b, record, start):\n",
    "    ct = [start]\n",
    "    sb = time.time()\n",
    "    # generate the graph\n",
    "    # ba, adj, identity, degrees, nodes = generator2(N, m, k)\n",
    "\n",
    "    # pre-evo\n",
    "    for t in range(t0):\n",
    "        # calculate gain\n",
    "        gains = dict()\n",
    "        for node in nodes:\n",
    "            gains[node] = cal_gain(node, b, adj, identity)\n",
    "        # update\n",
    "        for node in nodes:\n",
    "            nodej = choose_neighbor(node, adj)\n",
    "            update2(node, nodej, b, gains, identity, degrees)\n",
    "        ct.append((N - np.sum(identity)) / N)\n",
    "\n",
    "    # get steady\n",
    "    key = True\n",
    "    for t in range(t1):\n",
    "        oldc = N - np.sum(identity)\n",
    "        # calculate gain\n",
    "        gains = dict()\n",
    "        for node in nodes:\n",
    "            gains[node] = cal_gain(node, b, adj, identity)\n",
    "        # update\n",
    "        for node in nodes:\n",
    "            nodej = choose_neighbor(node, adj)\n",
    "            update2(node, nodej, b, gains, identity, degrees)\n",
    "        newc = N - np.sum(identity)\n",
    "        # find out reach steady state or not\n",
    "        if key:\n",
    "            if abs(newc - oldc) < 1 / np.sqrt(N):\n",
    "                print(f'we have reached the steady state after {t} times evolution.')\n",
    "                key = False\n",
    "        ct.append((N - np.sum(identity)) / N)\n",
    "    eb = time.time()\n",
    "\n",
    "    print(f'The time we used for b = {b} is {eb - sb}s.')\n",
    "    record[b] = ct"
   ],
   "metadata": {
    "collapsed": false,
    "pycharm": {
     "name": "#%%\n"
    }
   }
  },
  {
   "cell_type": "code",
   "execution_count": 35,
   "outputs": [
    {
     "name": "stdout",
     "output_type": "stream",
     "text": [
      "we have reached the steady state after 3 times evolution.\n",
      "The time we used for b = 1.1 is 11.450469255447388s.\n",
      "we have reached the steady state after 0 times evolution.\n",
      "The time we used for b = 1.2000000000000002 is 14.824087619781494s.\n",
      "we have reached the steady state after 0 times evolution.\n",
      "The time we used for b = 1.3000000000000003 is 11.272037982940674s.\n"
     ]
    }
   ],
   "source": [
    "bs = np.arange(1.1, 1.4, 0.1)\n",
    "recordk1 = dict()\n",
    "k1 = 2\n",
    "ba, adj, identity, degrees, nodes = generator2(N, m, k1)\n",
    "start = (N - np.sum(identity))/N\n",
    "for b in bs:\n",
    "    adj_ = copy.deepcopy(adj)\n",
    "    id_ = copy.deepcopy(identity)\n",
    "    de_ = copy.deepcopy(degrees)\n",
    "    nodes_ = copy.deepcopy(nodes)\n",
    "    iter(adj_, id_, de_, nodes_, b, recordk1, start)"
   ],
   "metadata": {
    "collapsed": false,
    "pycharm": {
     "name": "#%%\n"
    }
   }
  },
  {
   "cell_type": "code",
   "execution_count": 74,
   "outputs": [
    {
     "name": "stdout",
     "output_type": "stream",
     "text": [
      "[0.50025, 0.644, 0.741, 0.79325, 0.83275, 0.86525, 0.89275, 0.90675, 0.919, 0.92325, 0.9265, 0.93375, 0.94275, 0.94675, 0.94825, 0.9535, 0.961, 0.96375, 0.9645, 0.96675, 0.96775, 0.9695, 0.9735, 0.976, 0.97875, 0.97775, 0.9785, 0.9805, 0.98125, 0.9825, 0.9835, 0.9835, 0.98525, 0.985, 0.98475, 0.98575, 0.98475, 0.9855, 0.98625, 0.98775, 0.9905, 0.99125, 0.9915, 0.99075, 0.99025, 0.99025, 0.9905, 0.99075, 0.99125, 0.9915, 0.993, 0.99375, 0.99425, 0.9945, 0.9945, 0.99475, 0.995, 0.9955, 0.9955, 0.9955, 0.996, 0.99475, 0.9945, 0.99475, 0.99575, 0.9945, 0.9955, 0.995, 0.99575, 0.99525, 0.9955, 0.99575, 0.99525, 0.99575, 0.99575, 0.99475, 0.995, 0.99625, 0.99625, 0.99625, 0.996, 0.99575, 0.99775, 0.9975, 0.9975, 0.9975, 0.99725, 0.99725, 0.9975, 0.998, 0.9975, 0.997, 0.99725, 0.997, 0.99675, 0.99725, 0.99675, 0.997, 0.997, 0.997, 0.9975, 0.99725, 0.99675, 0.99675, 0.997, 0.99675, 0.9965, 0.996, 0.9965, 0.9965, 0.99675, 0.99575, 0.996, 0.99625, 0.997, 0.9965, 0.99675, 0.9965, 0.9975, 0.9975, 0.99775, 0.9965, 0.99625, 0.997, 0.997, 0.997, 0.997, 0.997, 0.997, 0.997, 0.9975, 0.99725, 0.99675, 0.99725, 0.99725, 0.997, 0.9975, 0.99775, 0.997, 0.9975, 0.9965, 0.997, 0.9975, 0.99775, 0.99825, 0.99825, 0.99875, 0.9985, 0.9985, 0.998, 0.99775, 0.997, 0.99775, 0.998, 0.998, 0.99775, 0.997, 0.99675, 0.9975, 0.99775, 0.9975, 0.99775, 0.9975, 0.9985, 0.99775, 0.99775, 0.99825, 0.99825, 0.9975, 0.998, 0.99825, 0.99775, 0.998, 0.998, 0.998, 0.998, 0.99825, 0.99825, 0.99825, 0.99775, 0.99775, 0.9985, 0.998, 0.99825, 0.998, 0.998, 0.999, 0.99875, 0.99825, 0.99775, 0.998, 0.99775, 0.99775, 0.997, 0.998, 0.99775, 0.9975, 0.99775, 0.998, 0.998, 0.998, 0.99825, 0.998, 0.99675, 0.9975, 0.998, 0.99775, 0.99825, 0.998, 0.99775, 0.99775, 0.99825, 0.99775, 0.99725, 0.99825, 0.9975, 0.997, 0.99725, 0.9975, 0.998, 0.9985, 0.9985, 0.9985, 0.9985, 0.99775, 0.9975, 0.99725, 0.99725, 0.9975, 0.99775, 0.9975, 0.99725, 0.997, 0.99675, 0.99725, 0.997, 0.9975, 0.99775, 0.99775, 0.99775, 0.99825, 0.998, 0.99775, 0.99775, 0.99725, 0.9975, 0.99775, 0.99825, 0.99825, 0.99775, 0.998, 0.99775, 0.998, 0.99825, 0.9985, 0.998, 0.998, 0.9975, 0.99775, 0.9975, 0.99775, 0.99775, 0.998, 0.99825, 0.99825, 0.9985, 0.9985, 0.99825, 0.9975, 0.99725, 0.9975, 0.99725, 0.99775, 0.9975, 0.998, 0.9985, 0.99775, 0.99825, 0.99775, 0.997, 0.9975, 0.99725, 0.997, 0.99675, 0.997, 0.99725, 0.9975, 0.99775, 0.99775, 0.9975, 0.9975, 0.998, 0.99875, 0.99875, 0.9985, 0.99875, 0.99875, 0.99925, 0.99925, 0.9995, 0.9995, 0.99925, 0.99875, 0.99875, 0.999, 0.99875, 0.999, 0.99875, 0.9985, 0.99875, 0.99925, 0.999, 0.99875, 0.9985, 0.9985, 0.9985, 0.99925, 0.999, 0.999, 0.999, 0.999, 0.999, 0.999, 0.9985, 0.999, 0.99825, 0.998, 0.99825, 0.99875, 0.9985, 0.99875, 0.99875, 0.99875, 0.9985, 0.99875, 0.99875, 0.99875, 0.99825, 0.99825, 0.9985, 0.99875, 0.999, 0.99875, 0.99925, 0.999, 0.999, 0.99875, 0.99925, 0.99925, 0.99975, 0.999, 0.99875, 0.999, 0.99875, 0.99875, 0.999, 0.99925, 0.999, 0.9985, 0.9985, 0.99825, 0.99825, 0.999, 0.99925, 0.99875, 0.999, 0.99925, 0.999, 0.99875, 0.99825, 0.99825, 0.998, 0.9985, 0.99825, 0.998, 0.99775, 0.99725, 0.99825, 0.99775, 0.99825, 0.9985, 0.99775, 0.9985, 0.9985, 0.9985, 0.99825, 0.998, 0.9985, 0.9985, 0.9985, 0.99875, 0.99825, 0.99875, 0.9985, 0.99875, 0.999, 0.99875, 0.999, 0.99925, 0.999, 0.99925, 0.999, 0.9995, 0.99925, 0.999, 0.999, 0.999, 0.9995, 0.99925, 0.99925, 0.999, 0.9985, 0.99875, 0.99875, 0.99825, 0.99925, 0.9985, 0.99925, 0.99925, 0.99875, 0.99875, 0.99875, 0.999, 0.99925, 0.999, 0.999, 0.99925, 0.999, 0.99875, 0.99875, 0.99825, 0.99825, 0.99825, 0.9985, 0.9985, 0.999, 0.999, 0.999, 0.99825, 0.99825, 0.99875, 0.99875, 0.999, 0.99825, 0.9985, 0.99825, 0.99875, 0.99875, 0.9985, 0.9985, 0.9985, 0.998, 0.99825, 0.998, 0.998, 0.998, 0.999, 0.99875, 0.99825, 0.998, 0.99875, 0.99825, 0.998, 0.9985, 0.99925, 0.999, 0.999, 0.999, 0.999, 0.99875, 0.99875, 0.99825, 0.99825, 0.9985, 0.9985, 0.99825, 0.99825, 0.99775, 0.99825, 0.998, 0.99775, 0.998, 0.99875, 0.998, 0.998, 0.999, 0.99875, 0.9985, 0.99825, 0.9985, 0.99875, 0.99875, 0.99925, 0.99875, 0.99875, 0.9995, 0.99925, 0.999, 0.99875, 0.99875, 0.999, 0.9985, 0.99875, 0.9985, 0.9985, 0.99825, 0.9985, 0.99875, 0.99825, 0.99825, 0.99825, 0.99825, 0.99825, 0.9985, 0.99875, 0.99875, 0.9985, 0.99875, 0.99875, 0.99875, 0.99825, 0.998, 0.99875, 0.99875, 0.999, 0.999, 0.99875, 0.999, 0.999, 0.999, 0.99875, 0.99875, 0.9985, 0.9985, 0.9985, 0.99825, 0.99775, 0.998, 0.998, 0.99825, 0.99825, 0.998, 0.99825, 0.998, 0.99775, 0.99825, 0.9985, 0.99825, 0.99825, 0.99875, 0.99875, 0.9985, 0.9985, 0.99825, 0.99825, 0.9985, 0.999, 0.99925, 0.999, 0.999, 0.99875, 0.99875, 0.9985, 0.998, 0.99825, 0.9985, 0.998, 0.99775, 0.998, 0.99825, 0.998, 0.99825, 0.99875, 0.999, 0.99875, 0.9985, 0.998, 0.99875, 0.9985, 0.999, 0.99825, 0.9985, 0.99875, 0.99825, 0.99825, 0.9985, 0.9985, 0.99825, 0.9985, 0.9985, 0.99875, 0.998, 0.99825, 0.99825, 0.99825, 0.998, 0.99875, 0.99875, 0.99825, 0.99875, 0.99925]\n",
      "[0.50025, 0.631, 0.72025, 0.77875, 0.82025, 0.85125, 0.872, 0.88625, 0.8995, 0.90975, 0.91925, 0.924, 0.9315, 0.93625, 0.942, 0.94925, 0.953, 0.95425, 0.957, 0.96075, 0.96375, 0.966, 0.96875, 0.9695, 0.971, 0.972, 0.972, 0.9725, 0.97525, 0.97725, 0.97775, 0.97975, 0.981, 0.981, 0.98075, 0.98125, 0.983, 0.9845, 0.98375, 0.98475, 0.98625, 0.986, 0.9865, 0.98875, 0.98875, 0.989, 0.98775, 0.989, 0.98925, 0.99075, 0.991, 0.99125, 0.99175, 0.992, 0.99075, 0.99075, 0.992, 0.99125, 0.99075, 0.99075, 0.992, 0.99175, 0.991, 0.9915, 0.992, 0.99125, 0.991, 0.9915, 0.9925, 0.993, 0.993, 0.994, 0.99425, 0.99425, 0.99375, 0.99375, 0.99425, 0.9945, 0.99425, 0.9945, 0.9945, 0.99425, 0.99375, 0.99425, 0.99425, 0.99525, 0.995, 0.99525, 0.9955, 0.9955, 0.99525, 0.9955, 0.9955, 0.99575, 0.996, 0.99625, 0.9965, 0.99725, 0.99775, 0.99775, 0.99825, 0.99825, 0.99825, 0.99825, 0.998, 0.998, 0.998, 0.99825, 0.99825, 0.998, 0.99775, 0.998, 0.99775, 0.9975, 0.9985, 0.99825, 0.99775, 0.9975, 0.998, 0.998, 0.99825, 0.99825, 0.998, 0.99775, 0.998, 0.998, 0.998, 0.9975, 0.99825, 0.99775, 0.99775, 0.99825, 0.9985, 0.9985, 0.9985, 0.998, 0.99825, 0.99825, 0.99825, 0.9985, 0.99825, 0.998, 0.998, 0.9985, 0.99825, 0.9985, 0.99825, 0.9985, 0.9985, 0.9985, 0.9985, 0.999, 0.999, 0.999, 0.99825, 0.99875, 0.9985, 0.999, 0.999, 0.999, 0.999, 0.99875, 0.999, 0.999, 0.999, 0.99925, 0.99925, 0.999, 0.999, 0.99925, 0.99925, 0.999, 0.99875, 0.99875, 0.99875, 0.999, 0.99925, 0.99925, 0.99925, 0.99925, 0.999, 0.99925, 0.999, 0.999, 0.999, 0.999, 0.99925, 0.99925, 0.9995, 0.99925, 0.999, 0.999, 0.999, 0.999, 0.999, 0.99875, 0.9985, 0.99875, 0.99875, 0.99875, 0.99875, 0.9985, 0.9985, 0.99875, 0.9985, 0.9985, 0.9985, 0.999, 0.999, 0.99925, 0.99925, 0.99925, 0.99925, 0.99925, 0.99925, 0.99925, 0.99875, 0.99875, 0.99875, 0.99875, 0.99875, 0.9985, 0.9985, 0.999, 0.999, 0.999, 0.999, 0.99925, 0.999, 0.9985, 0.99875, 0.99875, 0.999, 0.999, 0.99875, 0.99875, 0.9985, 0.99825, 0.99825, 0.9985, 0.99875, 0.999, 0.99925, 0.9995, 0.999, 0.99875, 0.9985, 0.99875, 0.99875, 0.9985, 0.999, 0.99925, 0.9995, 0.9995, 0.99925, 0.99925, 0.99925, 0.99925, 0.99925, 0.99925, 0.99925, 0.99925, 0.9995, 0.9995, 0.9995, 0.99975, 0.9995, 0.9995, 0.9995, 0.9995, 0.99975, 0.99975, 0.99975, 0.99975, 0.9995, 0.99975, 0.9995, 0.9995, 0.9995, 0.9995, 0.9995, 0.99925, 0.9995, 0.9995, 0.99975, 0.99975, 0.99975, 0.99975, 0.99975, 0.99975, 0.99975, 0.99975, 0.99975, 0.9995, 0.9995, 0.9995, 0.99975, 0.9995, 0.9995, 0.99925, 0.9995, 0.9995, 0.9995, 0.9995, 0.9995, 0.99925, 0.99925, 0.9995, 0.9995, 0.99975, 0.9995, 0.9995, 0.9995, 0.9995, 0.99975, 0.99975, 0.99975, 0.99975, 0.99975, 0.9995, 0.9995, 0.9995, 0.99925, 0.9995, 0.9995, 0.9995, 0.99975, 0.99975, 0.9995, 0.9995, 0.99925, 0.99925, 0.99925, 0.99975, 1.0, 1.0, 1.0, 1.0, 1.0, 1.0, 1.0, 1.0, 1.0, 1.0, 1.0, 1.0, 1.0, 1.0, 1.0, 1.0, 1.0, 1.0, 1.0, 1.0, 1.0, 1.0, 1.0, 1.0, 1.0, 1.0, 1.0, 1.0, 1.0, 1.0, 1.0, 1.0, 1.0, 1.0, 1.0, 1.0, 1.0, 1.0, 1.0, 1.0, 1.0, 1.0, 1.0, 1.0, 1.0, 1.0, 1.0, 1.0, 1.0, 1.0, 1.0, 1.0, 1.0, 1.0, 1.0, 1.0, 1.0, 1.0, 1.0, 1.0, 1.0, 1.0, 1.0, 1.0, 1.0, 1.0, 1.0, 1.0, 1.0, 1.0, 1.0, 1.0, 1.0, 1.0, 1.0, 1.0, 1.0, 1.0, 1.0, 1.0, 1.0, 1.0, 1.0, 1.0, 1.0, 1.0, 1.0, 1.0, 1.0, 1.0, 1.0, 1.0, 1.0, 1.0, 1.0, 1.0, 1.0, 1.0, 1.0, 1.0, 1.0, 1.0, 1.0, 1.0, 1.0, 1.0, 1.0, 1.0, 1.0, 1.0, 1.0, 1.0, 1.0, 1.0, 1.0, 1.0, 1.0, 1.0, 1.0, 1.0, 1.0, 1.0, 1.0, 1.0, 1.0, 1.0, 1.0, 1.0, 1.0, 1.0, 1.0, 1.0, 1.0, 1.0, 1.0, 1.0, 1.0, 1.0, 1.0, 1.0, 1.0, 1.0, 1.0, 1.0, 1.0, 1.0, 1.0, 1.0, 1.0, 1.0, 1.0, 1.0, 1.0, 1.0, 1.0, 1.0, 1.0, 1.0, 1.0, 1.0, 1.0, 1.0, 1.0, 1.0, 1.0, 1.0, 1.0, 1.0, 1.0, 1.0, 1.0, 1.0, 1.0, 1.0, 1.0, 1.0, 1.0, 1.0, 1.0, 1.0, 1.0, 1.0, 1.0, 1.0, 1.0, 1.0, 1.0, 1.0, 1.0, 1.0, 1.0, 1.0, 1.0, 1.0, 1.0, 1.0, 1.0, 1.0, 1.0, 1.0, 1.0, 1.0, 1.0, 1.0, 1.0, 1.0, 1.0, 1.0, 1.0, 1.0, 1.0, 1.0, 1.0, 1.0, 1.0, 1.0, 1.0, 1.0, 1.0, 1.0, 1.0, 1.0, 1.0, 1.0, 1.0, 1.0, 1.0, 1.0, 1.0, 1.0, 1.0, 1.0, 1.0, 1.0, 1.0, 1.0, 1.0, 1.0, 1.0, 1.0, 1.0, 1.0, 1.0, 1.0, 1.0, 1.0, 1.0, 1.0, 1.0, 1.0, 1.0, 1.0, 1.0, 1.0, 1.0, 1.0, 1.0, 1.0, 1.0, 1.0, 1.0, 1.0, 1.0, 1.0, 1.0, 1.0, 1.0]\n",
      "[0.50025, 0.6155, 0.70525, 0.7595, 0.8045, 0.8385, 0.85925, 0.87425, 0.894, 0.906, 0.91325, 0.922, 0.9255, 0.932, 0.934, 0.93775, 0.94375, 0.94725, 0.94975, 0.9525, 0.958, 0.958, 0.96275, 0.96375, 0.966, 0.97, 0.9735, 0.97375, 0.974, 0.974, 0.97575, 0.97925, 0.98075, 0.98125, 0.98175, 0.98425, 0.98325, 0.984, 0.98575, 0.9855, 0.987, 0.98725, 0.98725, 0.98725, 0.986, 0.98775, 0.9885, 0.9885, 0.988, 0.989, 0.99, 0.989, 0.9885, 0.98925, 0.99075, 0.99125, 0.99225, 0.992, 0.9915, 0.99175, 0.99225, 0.99275, 0.9935, 0.99425, 0.99575, 0.99575, 0.996, 0.99675, 0.99625, 0.9965, 0.99675, 0.99625, 0.996, 0.99625, 0.996, 0.996, 0.997, 0.9965, 0.9965, 0.997, 0.99675, 0.99675, 0.9965, 0.99675, 0.99625, 0.99725, 0.9985, 0.99825, 0.99775, 0.998, 0.99825, 0.9985, 0.998, 0.998, 0.998, 0.998, 0.9985, 0.99875, 0.99825, 0.9985, 0.99825, 0.998, 0.9975, 0.9975, 0.998, 0.9975, 0.99775, 0.99825, 0.99875, 0.9985, 0.9985, 0.9985, 0.9985, 0.99825, 0.998, 0.99825, 0.99825, 0.998, 0.998, 0.99775, 0.998, 0.998, 0.998, 0.99775, 0.99725, 0.99825, 0.99775, 0.998, 0.99775, 0.9985, 0.99825, 0.9985, 0.999, 0.99875, 0.99875, 0.998, 0.99825, 0.9985, 0.99925, 0.99925, 0.99925, 0.99875, 0.99875, 0.999, 0.999, 0.99925, 0.99925, 0.99875, 0.9985, 0.9985, 0.9985, 0.99775, 0.998, 0.998, 0.998, 0.998, 0.998, 0.99875, 0.99875, 0.9985, 0.9985, 0.998, 0.9975, 0.998, 0.99825, 0.99875, 0.9985, 0.99875, 0.9985, 0.9985, 0.998, 0.9975, 0.998, 0.99775, 0.9975, 0.99775, 0.998, 0.99825, 0.99825, 0.99775, 0.99825, 0.998, 0.99775, 0.99825, 0.99825, 0.9985, 0.9985, 0.9985, 0.99825, 0.99775, 0.9985, 0.99825, 0.9985, 0.99875, 0.999, 0.999, 0.999, 0.99875, 0.99875, 0.9985, 0.99875, 0.9985, 0.999, 0.999, 0.99925, 0.99925, 0.9995, 0.9995, 0.9995, 0.99925, 0.9985, 0.9975, 0.9975, 0.99775, 0.99775, 0.9975, 0.997, 0.99725, 0.9975, 0.99775, 0.998, 0.99825, 0.9985, 0.99825, 0.998, 0.99825, 0.99825, 0.99825, 0.99825, 0.99825, 0.9985, 0.99875, 0.99825, 0.9975, 0.9975, 0.99775, 0.99775, 0.99775, 0.99775, 0.99775, 0.99775, 0.998, 0.99825, 0.99825, 0.99825, 0.99825, 0.99775, 0.99825, 0.998, 0.998, 0.998, 0.99825, 0.99875, 0.999, 0.999, 0.999, 0.99875, 0.99825, 0.99825, 0.99875, 0.9985, 0.99825, 0.9985, 0.9985, 0.99825, 0.9985, 0.99825, 0.9985, 0.9985, 0.99825, 0.998, 0.99725, 0.9975, 0.99775, 0.998, 0.998, 0.998, 0.99825, 0.9985, 0.99825, 0.99825, 0.9985, 0.99825, 0.998, 0.99825, 0.998, 0.998, 0.998, 0.99825, 0.9985, 0.9985, 0.9985, 0.998, 0.998, 0.998, 0.9985, 0.998, 0.99825, 0.9985, 0.99825, 0.9985, 0.998, 0.99825, 0.9985, 0.99825, 0.998, 0.9985, 0.99875, 0.99875, 0.999, 0.99875, 0.99875, 0.99825, 0.99825, 0.99825, 0.998, 0.99725, 0.99825, 0.99775, 0.99775, 0.99725, 0.99725, 0.9985, 0.9985, 0.9985, 0.99875, 0.99875, 0.9985, 0.99875, 0.99875, 0.999, 0.99875, 0.999, 0.999, 0.99925, 0.9995, 0.99925, 0.999, 0.99925, 0.99925, 0.99875, 0.99875, 0.999, 0.99875, 0.9985, 0.9985, 0.99875, 0.999, 0.99875, 0.99875, 0.99875, 0.9985, 0.99775, 0.99875, 0.9985, 0.99875, 0.99875, 0.998, 0.99775, 0.998, 0.9975, 0.9975, 0.9975, 0.99775, 0.998, 0.99725, 0.9975, 0.997, 0.99675, 0.99675, 0.997, 0.99725, 0.997, 0.997, 0.9975, 0.9975, 0.99825, 0.998, 0.99875, 0.999, 0.999, 0.99875, 0.99825, 0.998, 0.99825, 0.99825, 0.99825, 0.99825, 0.99875, 0.99875, 0.9985, 0.9985, 0.9985, 0.99875, 0.99875, 0.99875, 0.99875, 0.99875, 0.99925, 0.99925, 0.999, 0.99925, 0.999, 0.999, 0.99875, 0.999, 0.999, 0.999, 0.99875, 0.999, 0.99925, 0.999, 0.9995, 0.99925, 0.99925, 0.99925, 0.99925, 0.99925, 0.9995, 0.99975, 0.99975, 0.9995, 0.9995, 0.99975, 0.99925, 0.99925, 0.99925, 0.99925, 0.9995, 0.99975, 0.9995, 0.9995, 0.9995, 0.9995, 0.99925, 0.99925, 0.99925, 0.99925, 0.9995, 0.9995, 0.9995, 0.99925, 0.99925, 0.999, 0.99925, 0.9995, 0.99875, 0.99875, 0.99825, 0.99825, 0.99825, 0.99775, 0.99775, 0.99825, 0.998, 0.998, 0.9975, 0.99775, 0.998, 0.998, 0.9985, 0.9985, 0.9985, 0.99875, 0.9985, 0.999, 0.999, 0.999, 0.9985, 0.998, 0.998, 0.99825, 0.99825, 0.998, 0.998, 0.99875, 0.99875, 0.99825, 0.998, 0.99775, 0.99825, 0.99825, 0.99825, 0.99825, 0.998, 0.99825, 0.9975, 0.99725, 0.9975, 0.998, 0.998, 0.99775, 0.99825, 0.99825, 0.99775, 0.99825, 0.9985, 0.998, 0.998, 0.99825, 0.9985, 0.9985, 0.99825, 0.9985, 0.9985, 0.99875, 0.9985, 0.99825, 0.99875, 0.9985, 0.99875, 0.99875, 0.9985, 0.9985, 0.99875, 0.999, 0.99925, 0.999, 0.999, 0.99925, 0.99925, 0.99925, 0.99975, 0.99975, 0.99975, 0.9995, 0.9995, 0.99975, 0.99975, 0.9995, 0.99925, 0.9995, 0.99925, 0.99925, 0.99925, 0.999, 0.99925, 0.99925, 0.99925, 0.99925, 0.99925, 0.99925, 0.99925, 0.9995, 0.99925, 0.999, 0.999, 0.999, 0.99925, 0.999, 0.999, 0.99925, 0.9995, 0.9995, 0.9995, 0.9995, 0.99925, 0.999, 0.99925, 0.999, 0.99925, 0.99925, 0.99925, 0.99925, 0.9995, 0.9995, 0.99925, 0.99925, 0.99925, 0.99925, 0.99925, 0.99975, 0.99975, 0.9995, 0.9995, 0.9995, 0.99925, 0.9995, 0.99925, 0.9995, 0.9995, 0.99925, 0.9995, 0.9995, 0.99975, 0.99975, 0.99975, 0.99975, 0.9995, 0.9995, 0.99925, 0.99925, 0.99925, 0.99925, 0.9995, 0.9995, 0.99925, 0.99925, 0.99925, 1.0, 1.0]\n"
     ]
    },
    {
     "data": {
      "text/plain": "<Figure size 432x288 with 1 Axes>",
      "image/png": "[encoded data removed]"
     },
     "metadata": {
      "needs_background": "light"
     },
     "output_type": "display_data"
    }
   ],
   "source": [
    "t = [i for i in range(1, t0+t1+2)]\n",
    "for b in bs:\n",
    "    print(recordk1[b])\n",
    "    plt.plot(t, recordk1[b], label='b = '+str(b))\n",
    "    plt.ylabel('<c>')\n",
    "    plt.xlabel('t')\n",
    "# plt.plot([t[0], t[-1]], [0.50025, 0.50025])\n",
    "# plt.xlim(0,1000)\n",
    "plt.yscale('log')\n",
    "plt.xscale('log')\n",
    "plt.legend()\n",
    "plt.title('k = '+str(k1))\n",
    "\n",
    "plt.show()"
   ],
   "metadata": {
    "collapsed": false,
    "pycharm": {
     "name": "#%%\n"
    }
   }
  },
  {
   "cell_type": "code",
   "execution_count": 37,
   "outputs": [
    {
     "name": "stdout",
     "output_type": "stream",
     "text": [
      "0.50025\n",
      "0.50025\n",
      "0.50025\n"
     ]
    }
   ],
   "source": [
    "for b in bs:\n",
    "    print(recordk1[b][0])\n",
    "\n"
   ],
   "metadata": {
    "collapsed": false,
    "pycharm": {
     "name": "#%%\n"
    }
   }
  },
  {
   "cell_type": "code",
   "execution_count": 57,
   "outputs": [
    {
     "name": "stdout",
     "output_type": "stream",
     "text": [
      "3.111\n"
     ]
    }
   ],
   "source": [
    "a = float(\"%.3f\" % 3.111111)\n",
    "print(a)"
   ],
   "metadata": {
    "collapsed": false,
    "pycharm": {
     "name": "#%%\n"
    }
   }
  },
  {
   "cell_type": "code",
   "execution_count": null,
   "outputs": [],
   "source": [],
   "metadata": {
    "collapsed": false,
    "pycharm": {
     "name": "#%%\n"
    }
   }
  }
 ],
 "metadata": {
  "kernelspec": {
   "name": "pycharm-f34b3c18",
   "language": "python",
   "display_name": "PyCharm (MSDM5003_final_project)"
  },
  "language_info": {
   "codemirror_mode": {
    "name": "ipython",
    "version": 2
   },
   "file_extension": ".py",
   "mimetype": "text/x-python",
   "name": "python",
   "nbconvert_exporter": "python",
   "pygments_lexer": "ipython2",
   "version": "2.7.6"
  }
 },
 "nbformat": 4,
 "nbformat_minor": 0
}